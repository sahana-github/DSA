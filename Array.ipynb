{
 "cells": [
  {
   "cell_type": "markdown",
   "id": "c08f5a16-4517-4f94-bc3f-c17a6b9882ea",
   "metadata": {},
   "source": [
    "Array is collection of elements"
   ]
  },
  {
   "cell_type": "code",
   "execution_count": 1,
   "id": "73fd7470-3733-4e97-8ba6-3958f1b4cb4b",
   "metadata": {},
   "outputs": [],
   "source": [
    "arr =[1,2,3]"
   ]
  },
  {
   "cell_type": "code",
   "execution_count": 2,
   "id": "119a9d72-b088-4095-9281-a9003356d535",
   "metadata": {},
   "outputs": [
    {
     "data": {
      "text/plain": [
       "[1, 2, 3]"
      ]
     },
     "execution_count": 2,
     "metadata": {},
     "output_type": "execute_result"
    }
   ],
   "source": [
    "arr"
   ]
  },
  {
   "cell_type": "code",
   "execution_count": 4,
   "id": "98e95904-72c2-4f79-8f28-b6e5ac66028b",
   "metadata": {},
   "outputs": [],
   "source": [
    "arr_str=['this','is','python']"
   ]
  },
  {
   "cell_type": "code",
   "execution_count": 5,
   "id": "5c4a4600-571a-467f-bf4b-da39e189be5a",
   "metadata": {},
   "outputs": [
    {
     "data": {
      "text/plain": [
       "['this', 'is', 'python']"
      ]
     },
     "execution_count": 5,
     "metadata": {},
     "output_type": "execute_result"
    }
   ],
   "source": [
    "arr_str"
   ]
  },
  {
   "cell_type": "code",
   "execution_count": 6,
   "id": "2bd790ed-5567-43f5-913d-5eac03ba221e",
   "metadata": {},
   "outputs": [],
   "source": [
    "arr_bol=[True,False]"
   ]
  },
  {
   "cell_type": "code",
   "execution_count": 7,
   "id": "46d8c4e5-4d00-41ae-9673-7b86f200fa5e",
   "metadata": {},
   "outputs": [
    {
     "data": {
      "text/plain": [
       "[True, False]"
      ]
     },
     "execution_count": 7,
     "metadata": {},
     "output_type": "execute_result"
    }
   ],
   "source": [
    "arr_bol"
   ]
  },
  {
   "cell_type": "code",
   "execution_count": 8,
   "id": "40bf0b85-d036-411b-9854-179ae9e9547e",
   "metadata": {},
   "outputs": [
    {
     "data": {
      "text/plain": [
       "[1, 2, 3]"
      ]
     },
     "execution_count": 8,
     "metadata": {},
     "output_type": "execute_result"
    }
   ],
   "source": [
    "arr"
   ]
  },
  {
   "cell_type": "code",
   "execution_count": 9,
   "id": "bb52660d-7bd1-45ef-b365-3661656d4b7c",
   "metadata": {},
   "outputs": [
    {
     "data": {
      "text/plain": [
       "3"
      ]
     },
     "execution_count": 9,
     "metadata": {},
     "output_type": "execute_result"
    }
   ],
   "source": [
    "arr[2]"
   ]
  },
  {
   "cell_type": "code",
   "execution_count": 10,
   "id": "301ed797-0be8-46bd-8b04-55210abc9215",
   "metadata": {},
   "outputs": [],
   "source": [
    "arr.append(12)"
   ]
  },
  {
   "cell_type": "code",
   "execution_count": 11,
   "id": "413c37dd-7279-4d50-ac6b-58d7aabcf2bc",
   "metadata": {},
   "outputs": [
    {
     "data": {
      "text/plain": [
       "[1, 2, 3, 12]"
      ]
     },
     "execution_count": 11,
     "metadata": {},
     "output_type": "execute_result"
    }
   ],
   "source": [
    "arr"
   ]
  },
  {
   "cell_type": "code",
   "execution_count": 12,
   "id": "02a31f4c-2f23-4c1e-bd21-26e9f10f9fca",
   "metadata": {},
   "outputs": [],
   "source": [
    "arr.remove(12)"
   ]
  },
  {
   "cell_type": "code",
   "execution_count": 13,
   "id": "addf1765-1a73-43a0-935b-7233685e9a8f",
   "metadata": {},
   "outputs": [
    {
     "data": {
      "text/plain": [
       "[1, 2, 3]"
      ]
     },
     "execution_count": 13,
     "metadata": {},
     "output_type": "execute_result"
    }
   ],
   "source": [
    "arr"
   ]
  },
  {
   "cell_type": "code",
   "execution_count": 14,
   "id": "05a239e2-5eef-4874-8293-03a49fcf067e",
   "metadata": {},
   "outputs": [],
   "source": [
    "arr.insert(0,6)"
   ]
  },
  {
   "cell_type": "code",
   "execution_count": 15,
   "id": "3a055129-9ea7-40f3-a1a1-fd46cd80b6e1",
   "metadata": {},
   "outputs": [
    {
     "data": {
      "text/plain": [
       "[6, 1, 2, 3]"
      ]
     },
     "execution_count": 15,
     "metadata": {},
     "output_type": "execute_result"
    }
   ],
   "source": [
    "arr"
   ]
  },
  {
   "cell_type": "code",
   "execution_count": 16,
   "id": "e75aa6f4-3a3f-489c-aaa2-874218cc0db9",
   "metadata": {},
   "outputs": [],
   "source": [
    "arr=list()"
   ]
  },
  {
   "cell_type": "code",
   "execution_count": 17,
   "id": "33897394-6836-48cf-a8db-fc5ba633d33e",
   "metadata": {},
   "outputs": [
    {
     "data": {
      "text/plain": [
       "[]"
      ]
     },
     "execution_count": 17,
     "metadata": {},
     "output_type": "execute_result"
    }
   ],
   "source": [
    "arr"
   ]
  },
  {
   "cell_type": "code",
   "execution_count": 18,
   "id": "c8d5bf08-3001-4617-98ae-6af303b33840",
   "metadata": {},
   "outputs": [],
   "source": [
    "for i in range(10):\n",
    "    arr.append(i)"
   ]
  },
  {
   "cell_type": "code",
   "execution_count": 19,
   "id": "7e694510-7d8c-4227-a982-cf6fb54b5142",
   "metadata": {},
   "outputs": [
    {
     "data": {
      "text/plain": [
       "[0, 1, 2, 3, 4, 5, 6, 7, 8, 9]"
      ]
     },
     "execution_count": 19,
     "metadata": {},
     "output_type": "execute_result"
    }
   ],
   "source": [
    "arr"
   ]
  },
  {
   "cell_type": "code",
   "execution_count": 20,
   "id": "088e8ab5-2cda-43fe-beb2-d955537537de",
   "metadata": {},
   "outputs": [
    {
     "data": {
      "text/plain": [
       "9"
      ]
     },
     "execution_count": 20,
     "metadata": {},
     "output_type": "execute_result"
    }
   ],
   "source": [
    "max(arr)"
   ]
  },
  {
   "cell_type": "code",
   "execution_count": 21,
   "id": "5b7aea5c-79a6-4216-9f99-8b6268b16ed1",
   "metadata": {},
   "outputs": [
    {
     "data": {
      "text/plain": [
       "0"
      ]
     },
     "execution_count": 21,
     "metadata": {},
     "output_type": "execute_result"
    }
   ],
   "source": [
    "min(arr)"
   ]
  },
  {
   "cell_type": "markdown",
   "id": "fde236cf-98ba-41a8-bd28-d1f91182596d",
   "metadata": {},
   "source": [
    "REVERSE"
   ]
  },
  {
   "cell_type": "code",
   "execution_count": 22,
   "id": "c101468e-d877-4168-bc19-03301a231c52",
   "metadata": {},
   "outputs": [
    {
     "data": {
      "text/plain": [
       "10"
      ]
     },
     "execution_count": 22,
     "metadata": {},
     "output_type": "execute_result"
    }
   ],
   "source": [
    "#length of array\n",
    "len(arr)"
   ]
  },
  {
   "cell_type": "code",
   "execution_count": 23,
   "id": "f5ac955e-0ba8-4d3e-9c71-a15f697133e3",
   "metadata": {},
   "outputs": [],
   "source": [
    "start=0\n",
    "end=len(arr)-1\n",
    "while start<end:\n",
    "    arr[start],arr[end]=arr[end],arr[start]\n",
    "    start+=1\n",
    "    end-=1\n",
    "    "
   ]
  },
  {
   "cell_type": "code",
   "execution_count": 24,
   "id": "45f27a3d-9ed7-476c-8d8f-648d5940f360",
   "metadata": {},
   "outputs": [
    {
     "data": {
      "text/plain": [
       "[9, 8, 7, 6, 5, 4, 3, 2, 1, 0]"
      ]
     },
     "execution_count": 24,
     "metadata": {},
     "output_type": "execute_result"
    }
   ],
   "source": [
    "arr"
   ]
  },
  {
   "cell_type": "code",
   "execution_count": 25,
   "id": "38f1e0cb-2725-43f3-9de5-e67b9fa7422f",
   "metadata": {},
   "outputs": [
    {
     "data": {
      "text/plain": [
       "[0, 1, 2, 3, 4, 5, 6, 7, 8, 9]"
      ]
     },
     "execution_count": 25,
     "metadata": {},
     "output_type": "execute_result"
    }
   ],
   "source": [
    "#inbuilt\n",
    "arr.reverse()\n",
    "arr"
   ]
  },
  {
   "cell_type": "code",
   "execution_count": 26,
   "id": "9eb7b748-bce8-4746-ae07-89c2c7c4e1cd",
   "metadata": {},
   "outputs": [
    {
     "data": {
      "text/plain": [
       "[9, 8, 7, 6, 5, 4, 3, 2, 1, 0]"
      ]
     },
     "execution_count": 26,
     "metadata": {},
     "output_type": "execute_result"
    }
   ],
   "source": [
    "arr[::-1]"
   ]
  },
  {
   "cell_type": "markdown",
   "id": "6e9a18ab-b58e-44bd-94f4-3abec1c9eebd",
   "metadata": {},
   "source": [
    "MAXIMUM"
   ]
  },
  {
   "cell_type": "code",
   "execution_count": 29,
   "id": "b5a989e6-97e5-4ff3-ba24-ddf3748935bf",
   "metadata": {},
   "outputs": [
    {
     "data": {
      "text/plain": [
       "-9223372036854775807"
      ]
     },
     "execution_count": 29,
     "metadata": {},
     "output_type": "execute_result"
    }
   ],
   "source": [
    "import sys\n",
    "-sys.maxsize"
   ]
  },
  {
   "cell_type": "raw",
   "id": "b18ebbb5-faae-4fec-9b10-90cf5228c559",
   "metadata": {},
   "source": [
    "Logic ~ You will essentially take a number which is very small. Then compare the numbers in your array. Comparison of the number and dynamically you will update the number"
   ]
  },
  {
   "cell_type": "code",
   "execution_count": 37,
   "id": "679f8390-67a5-4449-ad75-5e8204a2e3e0",
   "metadata": {},
   "outputs": [],
   "source": [
    "def maxElementFinder(inputArray):\n",
    "    maxNumber=-sys.maxsize\n",
    "    for i in range (len(inputArray)):\n",
    "        if maxNumber<inputArray[i]:\n",
    "            maxNumber=inputArray[i]\n",
    "    return maxNumber\n",
    "    "
   ]
  },
  {
   "cell_type": "code",
   "execution_count": 38,
   "id": "cf8d9a4c-aeaa-4e8f-8e51-8c7764193c65",
   "metadata": {},
   "outputs": [],
   "source": [
    "outcome=maxElementFinder(arr)"
   ]
  },
  {
   "cell_type": "code",
   "execution_count": 39,
   "id": "683ebe76-a858-4eed-bdbb-d310d07401b4",
   "metadata": {},
   "outputs": [
    {
     "data": {
      "text/plain": [
       "9"
      ]
     },
     "execution_count": 39,
     "metadata": {},
     "output_type": "execute_result"
    }
   ],
   "source": [
    "outcome"
   ]
  },
  {
   "cell_type": "code",
   "execution_count": 40,
   "id": "dd622877-63ce-4ef9-ba7a-18bd6a3a7f8e",
   "metadata": {},
   "outputs": [
    {
     "data": {
      "text/plain": [
       "9"
      ]
     },
     "execution_count": 40,
     "metadata": {},
     "output_type": "execute_result"
    }
   ],
   "source": [
    "max(arr)"
   ]
  },
  {
   "cell_type": "code",
   "execution_count": 41,
   "id": "c05d4ef2-2394-4583-a774-2ad780b2a9b7",
   "metadata": {},
   "outputs": [],
   "source": [
    "def minElementFinder(inputArray):\n",
    "    minNumber=sys.maxsize\n",
    "    for i in range (len(inputArray)):\n",
    "        if minNumber>inputArray[i]:\n",
    "            minNumber=inputArray[i]\n",
    "    return minNumber"
   ]
  },
  {
   "cell_type": "code",
   "execution_count": 42,
   "id": "b91c2cc3-9fd3-4dd6-bc85-d2b0f4cea753",
   "metadata": {},
   "outputs": [
    {
     "data": {
      "text/plain": [
       "0"
      ]
     },
     "execution_count": 42,
     "metadata": {},
     "output_type": "execute_result"
    }
   ],
   "source": [
    "outcome=minElementFinder(arr)\n",
    "outcome"
   ]
  },
  {
   "cell_type": "code",
   "execution_count": 43,
   "id": "527960d5-bec3-469d-80dd-077766c36cdf",
   "metadata": {},
   "outputs": [
    {
     "data": {
      "text/plain": [
       "0"
      ]
     },
     "execution_count": 43,
     "metadata": {},
     "output_type": "execute_result"
    }
   ],
   "source": [
    "min(arr)\n"
   ]
  },
  {
   "cell_type": "code",
   "execution_count": 50,
   "id": "6e65b323-9ef8-4a1c-b45a-e0d3be92b23b",
   "metadata": {},
   "outputs": [],
   "source": [
    "#linear search\n",
    "def searchElement(inputArray,key):\n",
    "    for i in range(len(inputArray)):\n",
    "        if inputArray[i]==key:\n",
    "            return i\n",
    "    return -1\n",
    "    \n",
    "        "
   ]
  },
  {
   "cell_type": "code",
   "execution_count": 51,
   "id": "7d59196c-5def-469d-ad67-52c0a73fa453",
   "metadata": {},
   "outputs": [
    {
     "data": {
      "text/plain": [
       "[0, 1, 2, 3, 4, 5, 6, 7, 8, 9]"
      ]
     },
     "execution_count": 51,
     "metadata": {},
     "output_type": "execute_result"
    }
   ],
   "source": [
    "arr"
   ]
  },
  {
   "cell_type": "code",
   "execution_count": 52,
   "id": "0258fcd0-71ff-4479-83c5-49723350f135",
   "metadata": {},
   "outputs": [],
   "source": [
    "outcome=searchElement(arr,6)"
   ]
  },
  {
   "cell_type": "code",
   "execution_count": 53,
   "id": "00320881-ab65-433d-9e7c-ac09cd58fee0",
   "metadata": {},
   "outputs": [
    {
     "name": "stdout",
     "output_type": "stream",
     "text": [
      "The 6 is the index of the element\n"
     ]
    }
   ],
   "source": [
    "print(f'The {outcome} is the index of the element')"
   ]
  },
  {
   "cell_type": "markdown",
   "id": "c237f0bf-1937-4e8e-af6e-483191167bb3",
   "metadata": {},
   "source": [
    "slicing"
   ]
  },
  {
   "cell_type": "code",
   "execution_count": 54,
   "id": "96d51dcb-20c9-489b-86bc-0dc3b8315b42",
   "metadata": {},
   "outputs": [
    {
     "data": {
      "text/plain": [
       "[0, 1, 2, 3, 4, 5, 6, 7, 8, 9]"
      ]
     },
     "execution_count": 54,
     "metadata": {},
     "output_type": "execute_result"
    }
   ],
   "source": [
    "arr"
   ]
  },
  {
   "cell_type": "code",
   "execution_count": null,
   "id": "e024d809-8e56-470c-a35b-7a6aa6286b69",
   "metadata": {},
   "outputs": [],
   "source": [
    "arr[before:after]"
   ]
  },
  {
   "cell_type": "code",
   "execution_count": 56,
   "id": "133eaf65-a132-4680-9ff8-352100060871",
   "metadata": {},
   "outputs": [
    {
     "data": {
      "text/plain": [
       "[0, 1, 2, 3, 4]"
      ]
     },
     "execution_count": 56,
     "metadata": {},
     "output_type": "execute_result"
    }
   ],
   "source": [
    "arr[:5]"
   ]
  },
  {
   "cell_type": "code",
   "execution_count": 57,
   "id": "64ce360b-7181-49d7-93c0-fc38afbb6dca",
   "metadata": {},
   "outputs": [
    {
     "data": {
      "text/plain": [
       "[5, 6, 7, 8, 9]"
      ]
     },
     "execution_count": 57,
     "metadata": {},
     "output_type": "execute_result"
    }
   ],
   "source": [
    "arr[5:]"
   ]
  },
  {
   "cell_type": "code",
   "execution_count": 58,
   "id": "500d26f9-3861-47e0-b1be-5bfc9fce5c10",
   "metadata": {},
   "outputs": [],
   "source": [
    "arr=[1,2,3,4,5,6,7,8,9,10]"
   ]
  },
  {
   "cell_type": "code",
   "execution_count": 59,
   "id": "4e737280-5087-46ee-8ea6-3e6b018c0379",
   "metadata": {},
   "outputs": [
    {
     "data": {
      "text/plain": [
       "[1, 2, 3, 4, 5]"
      ]
     },
     "execution_count": 59,
     "metadata": {},
     "output_type": "execute_result"
    }
   ],
   "source": [
    "arr[:5]"
   ]
  },
  {
   "cell_type": "code",
   "execution_count": 60,
   "id": "bd63ac00-e312-4be0-87a0-842cd6034da6",
   "metadata": {},
   "outputs": [
    {
     "data": {
      "text/plain": [
       "[6, 7, 8, 9, 10]"
      ]
     },
     "execution_count": 60,
     "metadata": {},
     "output_type": "execute_result"
    }
   ],
   "source": [
    "arr[5:]"
   ]
  },
  {
   "cell_type": "code",
   "execution_count": 62,
   "id": "cc9f0611-1c94-4d0e-ab7a-78d433401214",
   "metadata": {},
   "outputs": [
    {
     "data": {
      "text/plain": [
       "[1, 2, 3, 4, 5]"
      ]
     },
     "execution_count": 62,
     "metadata": {},
     "output_type": "execute_result"
    }
   ],
   "source": [
    "arr[:-5]"
   ]
  },
  {
   "cell_type": "code",
   "execution_count": 63,
   "id": "d77ce080-5067-48b7-827b-f675099ff467",
   "metadata": {},
   "outputs": [
    {
     "data": {
      "text/plain": [
       "[4, 5, 6]"
      ]
     },
     "execution_count": 63,
     "metadata": {},
     "output_type": "execute_result"
    }
   ],
   "source": [
    "arr[3:6]"
   ]
  },
  {
   "cell_type": "code",
   "execution_count": 67,
   "id": "066725a2-9e13-48f9-a3c9-b2c31c34bac2",
   "metadata": {},
   "outputs": [
    {
     "data": {
      "text/plain": [
       "[5, 6, 7]"
      ]
     },
     "execution_count": 67,
     "metadata": {},
     "output_type": "execute_result"
    }
   ],
   "source": [
    "arr[-6:-3]"
   ]
  },
  {
   "cell_type": "code",
   "execution_count": null,
   "id": "15af32aa-46e0-4a7e-990b-39618268f457",
   "metadata": {},
   "outputs": [],
   "source": []
  }
 ],
 "metadata": {
  "kernelspec": {
   "display_name": "Python 3 (ipykernel)",
   "language": "python",
   "name": "python3"
  },
  "language_info": {
   "codemirror_mode": {
    "name": "ipython",
    "version": 3
   },
   "file_extension": ".py",
   "mimetype": "text/x-python",
   "name": "python",
   "nbconvert_exporter": "python",
   "pygments_lexer": "ipython3",
   "version": "3.12.3"
  }
 },
 "nbformat": 4,
 "nbformat_minor": 5
}
